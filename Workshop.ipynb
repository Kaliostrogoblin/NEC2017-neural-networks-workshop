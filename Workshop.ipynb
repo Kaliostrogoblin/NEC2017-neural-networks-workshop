{
 "cells": [
  {
   "cell_type": "code",
   "execution_count": 3,
   "metadata": {},
   "outputs": [
    {
     "name": "stderr",
     "output_type": "stream",
     "text": [
      "Using TensorFlow backend.\n"
     ]
    }
   ],
   "source": [
    "from keras.models import Sequential \n",
    "from keras.layers import Dense\n",
    "from keras.layers import GRU\n",
    "from keras.layers import Conv2D, MaxPool2D\n",
    "from keras.layers import Flatten\n",
    "from keras.models import model_from_json\n",
    "from keras.datasets import mnist\n",
    "from keras.utils import to_categorical\n",
    "import matplotlib.pyplot as plt\n",
    "import numpy as np\n",
    "\n",
    "# specify a number of output classes\n",
    "# MNIST data has ten categories, each means particular digit\n",
    "N_CLASSES  = 10"
   ]
  },
  {
   "cell_type": "markdown",
   "metadata": {},
   "source": [
    "## Load and preprocess MNIST data"
   ]
  },
  {
   "cell_type": "markdown",
   "metadata": {},
   "source": [
    "Data splitted in two sets - train and test"
   ]
  },
  {
   "cell_type": "code",
   "execution_count": 5,
   "metadata": {},
   "outputs": [
    {
     "name": "stdout",
     "output_type": "stream",
     "text": [
      "Train size: 60000\n",
      "Test size:  10000\n"
     ]
    }
   ],
   "source": [
    "(X_train,y_train),(X_test,y_test) = mnist.load_data() \n",
    " \n",
    "print('Train size: {:5}'.format(len(X_train)))\n",
    "print('Test size: {:6}'.format(len(X_test)))"
   ]
  },
  {
   "cell_type": "markdown",
   "metadata": {},
   "source": [
    "Rescale original image data to be in range [0, 1]"
   ]
  },
  {
   "cell_type": "code",
   "execution_count": 6,
   "metadata": {},
   "outputs": [
    {
     "name": "stdout",
     "output_type": "stream",
     "text": [
      "X_max before rescaling - 255\n",
      "X_max after rescaling  - 1.0\n"
     ]
    }
   ],
   "source": [
    "# before rescaling\n",
    "print('X_max before rescaling - {}'.format(X_train.max()))\n",
    "\n",
    "X_train_rescaled = X_train / 255.\n",
    "X_test_rescaled  = X_test / 255.\n",
    "# after rescaling\n",
    "print('X_max after rescaling  - {}'.format(X_train_rescaled.max()))"
   ]
  },
  {
   "cell_type": "markdown",
   "metadata": {},
   "source": [
    "Show one training example"
   ]
  },
  {
   "cell_type": "code",
   "execution_count": 15,
   "metadata": {},
   "outputs": [
    {
     "data": {
      "image/png": "[encoded data removed]",
      "text/plain": [
       "<matplotlib.figure.Figure at 0x22f0e598ba8>"
      ]
     },
     "metadata": {},
     "output_type": "display_data"
    }
   ],
   "source": [
    "# randomly choose index of the image to show\n",
    "i = np.random.randint(0, 9999)\n",
    "\n",
    "plt.imshow(X_test_rescaled[i])\n",
    "plt.title(y_test[i])\n",
    "plt.show()"
   ]
  },
  {
   "cell_type": "markdown",
   "metadata": {},
   "source": [
    "Represent categorical labels as one-hot vectors\n",
    "\n",
    "For example, imagine that we have ten classes of data samples. So for the label equals to 3 one-hot vector would be:\n",
    "```python\n",
    "    0 0 0 1 0 0 0 0 0 0 \n",
    "```\n",
    "This transformation is nessesary for computing categorical cross-entropy loss:\n",
    "$$L = -\\sum_{i}^N{L_i \\log{(S_i)}},$$\n",
    "Where $S$ is output from Softmax Layer and $L$ is Labels. "
   ]
  },
  {
   "cell_type": "code",
   "execution_count": 8,
   "metadata": {
    "collapsed": true
   },
   "outputs": [],
   "source": [
    "y_train_categorical = to_categorical(y_train, num_classes=N_CLASSES)\n",
    "y_test_categorical  = to_categorical(y_test, num_classes=N_CLASSES)"
   ]
  },
  {
   "cell_type": "markdown",
   "metadata": {},
   "source": [
    "## Build neural networks models\n",
    "\n",
    "We will construct three different types of NNs:\n",
    "- shallow network with one hidden layer;\n",
    "- deep convolutional neural network (CNN);\n",
    "- recurrent neural network (RNN);"
   ]
  },
  {
   "cell_type": "markdown",
   "metadata": {},
   "source": [
    "#### Shallow Network with one hidden layer"
   ]
  },
  {
   "cell_type": "code",
   "execution_count": 6,
   "metadata": {},
   "outputs": [
    {
     "name": "stdout",
     "output_type": "stream",
     "text": [
      "_________________________________________________________________\n",
      "Layer (type)                 Output Shape              Param #   \n",
      "=================================================================\n",
      "dense_1 (Dense)              (None, 512)               401920    \n",
      "_________________________________________________________________\n",
      "dense_2 (Dense)              (None, 10)                5130      \n",
      "=================================================================\n",
      "Total params: 407,050\n",
      "Trainable params: 407,050\n",
      "Non-trainable params: 0\n",
      "_________________________________________________________________\n"
     ]
    }
   ],
   "source": [
    "SimpleNN = Sequential() # keras class of sequential model allows us to build NN by adding new layers \n",
    "\n",
    "# for the first layer (our hidden layer) of sequential model we should specify inputshape\n",
    "# ordinary NNs operates on 1D representations of data\n",
    "# so the translation of each 28x28 image is vector size of 784\n",
    "SimpleNN.add(Dense(1024,                   # number of output nodes\n",
    "                   input_shape=(784,),     # for the first layer of sequential model we shouls specify the input shape\n",
    "                   activation='sigmoid',   # activation function\n",
    "                   kernel_initializer='random_uniform',  # weights initializer\n",
    "                   bias_initializer='zeros'))            # bias initializer\n",
    "SimpleNN.add(Dense(N_CLASSES, activation='softmax', kernel_initializer='random_uniform', bias_initializer='zeros'))\n",
    "\n",
    "# compiling model\n",
    "SimpleNN.compile(loss='categorical_crossentropy', optimizer='adam', metrics=['accuracy'])\n",
    "# print our model\n",
    "SimpleNN.summary()"
   ]
  },
  {
   "cell_type": "markdown",
   "metadata": {},
   "source": [
    "#### Deep Convolutional Network"
   ]
  },
  {
   "cell_type": "code",
   "execution_count": 7,
   "metadata": {},
   "outputs": [
    {
     "name": "stdout",
     "output_type": "stream",
     "text": [
      "_________________________________________________________________\n",
      "Layer (type)                 Output Shape              Param #   \n",
      "=================================================================\n",
      "conv2d_1 (Conv2D)            (None, 24, 24, 32)        832       \n",
      "_________________________________________________________________\n",
      "max_pooling2d_1 (MaxPooling2 (None, 12, 12, 32)        0         \n",
      "_________________________________________________________________\n",
      "conv2d_2 (Conv2D)            (None, 12, 12, 64)        51264     \n",
      "_________________________________________________________________\n",
      "max_pooling2d_2 (MaxPooling2 (None, 6, 6, 64)          0         \n",
      "_________________________________________________________________\n",
      "flatten_1 (Flatten)          (None, 2304)              0         \n",
      "_________________________________________________________________\n",
      "dense_3 (Dense)              (None, 1024)              2360320   \n",
      "_________________________________________________________________\n",
      "dense_4 (Dense)              (None, 10)                10250     \n",
      "=================================================================\n",
      "Total params: 2,422,666\n",
      "Trainable params: 2,422,666\n",
      "Non-trainable params: 0\n",
      "_________________________________________________________________\n"
     ]
    }
   ],
   "source": [
    "ConvNN = Sequential()\n",
    "\n",
    "# 32 means the number of filters, features\n",
    "# (3,3) is tuple represents the filters sizes, e.g. each filter is a square with size 3x3\n",
    "# padding='same' - we add zeros across each of edges of the input sample\n",
    "# (28, 28, 1) - input shape, where 1 is a single gray channel (we may have RGB images with shape = 28,28,3)\n",
    "ConvNN.add(Conv2D(32, (5,5), input_shape=(28, 28, 1), activation='relu'))\n",
    "ConvNN.add(MaxPool2D(pool_size=(2,2)))\n",
    "ConvNN.add(Conv2D(64, (5,5), padding='same', activation='relu'))\n",
    "ConvNN.add(MaxPool2D(pool_size=(2,2)))\n",
    "ConvNN.add(Flatten()) # operation that flattens input tensor\n",
    "ConvNN.add(Dense(1024, activation='relu'))\n",
    "ConvNN.add(Dense(N_CLASSES, activation='softmax'))\n",
    "\n",
    "# compile model\n",
    "ConvNN.compile(loss='categorical_crossentropy', optimizer='adam', metrics=['accuracy'])\n",
    "# print model\n",
    "ConvNN.summary()"
   ]
  },
  {
   "cell_type": "markdown",
   "metadata": {},
   "source": [
    "#### Recurrent Neural Network"
   ]
  },
  {
   "cell_type": "code",
   "execution_count": 8,
   "metadata": {},
   "outputs": [
    {
     "name": "stdout",
     "output_type": "stream",
     "text": [
      "_________________________________________________________________\n",
      "Layer (type)                 Output Shape              Param #   \n",
      "=================================================================\n",
      "gru_1 (GRU)                  (None, 64)                17856     \n",
      "_________________________________________________________________\n",
      "dense_5 (Dense)              (None, 10)                650       \n",
      "=================================================================\n",
      "Total params: 18,506\n",
      "Trainable params: 18,506\n",
      "Non-trainable params: 0\n",
      "_________________________________________________________________\n"
     ]
    }
   ],
   "source": [
    "RNN = Sequential()\n",
    "\n",
    "# we extract 64 features from GRU neurons\n",
    "# each image presented as 28 sequences, i.e., rows of pixels\n",
    "RNN.add(GRU(64, input_shape=(28, 28)))\n",
    "RNN.add(Dense(N_CLASSES, activation='softmax'))\n",
    "\n",
    "# compile model\n",
    "RNN.compile(loss='categorical_crossentropy', optimizer='rmsprop', metrics=['accuracy'])\n",
    "# print model\n",
    "RNN.summary()"
   ]
  },
  {
   "cell_type": "markdown",
   "metadata": {},
   "source": [
    "## Train all three models"
   ]
  },
  {
   "cell_type": "code",
   "execution_count": 16,
   "metadata": {},
   "outputs": [
    {
     "name": "stdout",
     "output_type": "stream",
     "text": [
      "Train Shallow Network\n",
      "Train on 60000 samples, validate on 10000 samples\n",
      "Epoch 1/3\n",
      "60000/60000 [==============================] - 35s - loss: 0.0771 - acc: 0.9762 - val_loss: 0.0868 - val_acc: 0.9733\n",
      "Epoch 2/3\n",
      "15328/60000 [======>.......................] - ETA: 26s - loss: 0.0535 - acc: 0.9838\n",
      "Training was interrupted!\n"
     ]
    }
   ],
   "source": [
    "try:\n",
    "    # rescale input data to pass to simpleNN\n",
    "    X_train_rescaled = X_train_rescaled.reshape((len(X_train_rescaled), 28*28))\n",
    "    X_test_rescaled  = X_test_rescaled.reshape((len(X_test_rescaled), 28*28))\n",
    "    # fit shallow network\n",
    "    print('Train Shallow Network')\n",
    "    SimpleNN.fit(X_train_rescaled, y_train_categorical, epochs=3, validation_data=(X_test_rescaled, y_test_categorical))\n",
    "\n",
    "    # rescale input data to pass to convNN\n",
    "    X_train_rescaled = X_train_rescaled.reshape((len(X_train_rescaled), 28, 28, 1))\n",
    "    X_test_rescaled  = X_test_rescaled.reshape((len(X_test_rescaled), 28, 28, 1))\n",
    "    # fit convolutional network\n",
    "    print('Train Convolutional Network')\n",
    "    ConvNN.fit(X_train_rescaled, y_train_categorical, epochs=3, validation_data=(X_test_rescaled, y_test_categorical))\n",
    "\n",
    "    # rescale input data to pass to RNN\n",
    "    X_train_rescaled = X_train_rescaled.reshape((len(X_train_rescaled), 28, 28))\n",
    "    X_test_rescaled  = X_test_rescaled.reshape((len(X_test_rescaled), 28, 28))\n",
    "    # fit recurrent neural network\n",
    "    print('Train Recurrent Neural')\n",
    "    RNN.fit(X_train_rescaled, y_train_categorical, epochs=3, validation_data=(X_test_rescaled, y_test_categorical))\n",
    "except KeyboardInterrupt:\n",
    "    print('\\nTraining was interrupted!')"
   ]
  },
  {
   "cell_type": "markdown",
   "metadata": {},
   "source": [
    "### Restoring models"
   ]
  },
  {
   "cell_type": "code",
   "execution_count": 17,
   "metadata": {},
   "outputs": [],
   "source": [
    "# shallow network with one hidden layer\n",
    "# load model\n",
    "with open('data/SimpleNN.json', 'r') as f:\n",
    "    SimpleNN = model_from_json(f.read())\n",
    "#load trainable weights\n",
    "SimpleNN.load_weights('data/SimpleNN.h5')\n",
    "\n",
    "# convolutional neural network\n",
    "with open('data/ConvNN.json', 'r') as f:\n",
    "    ConvNN = model_from_json(f.read())\n",
    "ConvNN.load_weights('data/ConvNN.h5')\n",
    "\n",
    "# recurrent neural network\n",
    "with open('data/RNN.json', 'r') as f:\n",
    "    RNN = model_from_json(f.read())\n",
    "RNN.load_weights('data/RNN.h5')\n",
    "\n",
    "### Compiling all three models\n",
    "SimpleNN.compile(loss='categorical_crossentropy', optimizer='adam', metrics=['accuracy'])\n",
    "ConvNN.compile(loss='categorical_crossentropy', optimizer='adam', metrics=['accuracy'])\n",
    "RNN.compile(loss='categorical_crossentropy', optimizer='adam', metrics=['accuracy'])"
   ]
  },
  {
   "cell_type": "markdown",
   "metadata": {},
   "source": [
    "### Evaluate models"
   ]
  },
  {
   "cell_type": "code",
   "execution_count": 18,
   "metadata": {},
   "outputs": [
    {
     "name": "stdout",
     "output_type": "stream",
     "text": [
      "Test efficiencies\n",
      " 9920/10000 [============================>.] - ETA: 0s\tSimpleNN: 0.9686\n",
      " 9984/10000 [============================>.] - ETA: 0s\tConvNN: 0.992\n",
      " 9984/10000 [============================>.] - ETA: 0s\tRNN: 0.9834\n"
     ]
    }
   ],
   "source": [
    "print('Test efficiencies')\n",
    "\n",
    "#Shallow network\n",
    "X_test_rescaled  = X_test_rescaled.reshape((len(X_test_rescaled), 28*28))\n",
    "print('\\tSimpleNN: {}'.format(SimpleNN.evaluate(X_test_rescaled, y_test_categorical)[1]))\n",
    "\n",
    "#Convolutional Network\n",
    "X_test_rescaled  = X_test_rescaled.reshape((len(X_test_rescaled), 28, 28, 1))\n",
    "print('\\tConvNN: {}'.format(ConvNN.evaluate(X_test_rescaled, y_test_categorical)[1]))\n",
    "\n",
    "#Recurrent Network\n",
    "X_test_rescaled  = X_test_rescaled.reshape((len(X_test_rescaled), 28, 28))\n",
    "print('\\tRNN: {}'.format(RNN.evaluate(X_test_rescaled, y_test_categorical)[1]))"
   ]
  },
  {
   "cell_type": "markdown",
   "metadata": {
    "collapsed": true
   },
   "source": [
    "### Saving models"
   ]
  },
  {
   "cell_type": "code",
   "execution_count": null,
   "metadata": {
    "collapsed": true
   },
   "outputs": [],
   "source": [
    "# shallow network with one hidden layer\n",
    "with open('data/SimpleNN.json', 'w') as f:\n",
    "    f.write(SimpleNN.to_json())        # save model's graph\n",
    "SimpleNN.save_weights('data/SimpleNN.h5')   # save model's weights\n",
    "\n",
    "# convolutional neural network\n",
    "with open('data/ConvNN.json', 'w') as f:\n",
    "    f.write(ConvNN.to_json())\n",
    "ConvNN.save_weights('data/ConvNN.h5')\n",
    "\n",
    "# recurrent neural network\n",
    "with open('data/RNN.json', 'w') as f:\n",
    "    f.write(RNN.to_json())\n",
    "RNN.save_weights('data/RNN.h5')"
   ]
  }
 ],
 "metadata": {
  "kernelspec": {
   "display_name": "Python 3",
   "language": "python",
   "name": "python3"
  },
  "language_info": {
   "codemirror_mode": {
    "name": "ipython",
    "version": 3
   },
   "file_extension": ".py",
   "mimetype": "text/x-python",
   "name": "python",
   "nbconvert_exporter": "python",
   "pygments_lexer": "ipython3",
   "version": "3.5.3"
  }
 },
 "nbformat": 4,
 "nbformat_minor": 2
}
